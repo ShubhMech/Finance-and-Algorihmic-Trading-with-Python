{
 "cells": [
  {
   "cell_type": "code",
   "execution_count": 2,
   "id": "99da3e12",
   "metadata": {},
   "outputs": [],
   "source": [
    "import numpy as np\n",
    "import pandas as pd"
   ]
  },
  {
   "cell_type": "code",
   "execution_count": 3,
   "id": "66ebca4f",
   "metadata": {},
   "outputs": [],
   "source": [
    "import quandl "
   ]
  },
  {
   "cell_type": "code",
   "execution_count": 5,
   "id": "f2bc8d22",
   "metadata": {},
   "outputs": [],
   "source": [
    "import datetime"
   ]
  },
  {
   "cell_type": "code",
   "execution_count": 6,
   "id": "9675d573",
   "metadata": {},
   "outputs": [],
   "source": [
    "start = datetime.datetime(2012,1,1)\n",
    "end = datetime.datetime(2017,1,1)\n",
    "apple = quandl.get('WIKI/AAPL.11',start_date= start,end_date = end)\n",
    "cisco = quandl.get('WIKI/CSCO.11',start_date= start,end_date = end)\n",
    "ibm = quandl.get('WIKI/IBM.11',start_date= start,end_date = end)\n",
    "amazon = quandl.get('WIKI/AMZN.11',start_date= start,end_date = end)"
   ]
  },
  {
   "cell_type": "code",
   "execution_count": null,
   "id": "64064449",
   "metadata": {},
   "outputs": [],
   "source": []
  },
  {
   "cell_type": "code",
   "execution_count": 9,
   "id": "7055d630",
   "metadata": {},
   "outputs": [],
   "source": [
    "stocks = pd.concat([apple['Adj. Close'],ibm['Adj. Close'],cisco['Adj. Close'], amazon['Adj. Close']], axis =1 )"
   ]
  },
  {
   "cell_type": "code",
   "execution_count": 10,
   "id": "f7a4b4ee",
   "metadata": {},
   "outputs": [],
   "source": [
    "stocks. columns = ['Apple','IBM','Cisco','Amazon']"
   ]
  },
  {
   "cell_type": "code",
   "execution_count": 11,
   "id": "429e3308",
   "metadata": {},
   "outputs": [
    {
     "data": {
      "text/html": [
       "<div>\n",
       "<style scoped>\n",
       "    .dataframe tbody tr th:only-of-type {\n",
       "        vertical-align: middle;\n",
       "    }\n",
       "\n",
       "    .dataframe tbody tr th {\n",
       "        vertical-align: top;\n",
       "    }\n",
       "\n",
       "    .dataframe thead th {\n",
       "        text-align: right;\n",
       "    }\n",
       "</style>\n",
       "<table border=\"1\" class=\"dataframe\">\n",
       "  <thead>\n",
       "    <tr style=\"text-align: right;\">\n",
       "      <th></th>\n",
       "      <th>Apple</th>\n",
       "      <th>IBM</th>\n",
       "      <th>Cisco</th>\n",
       "      <th>Amazon</th>\n",
       "    </tr>\n",
       "    <tr>\n",
       "      <th>Date</th>\n",
       "      <th></th>\n",
       "      <th></th>\n",
       "      <th></th>\n",
       "      <th></th>\n",
       "    </tr>\n",
       "  </thead>\n",
       "  <tbody>\n",
       "    <tr>\n",
       "      <th>2012-01-03</th>\n",
       "      <td>52.848787</td>\n",
       "      <td>157.578371</td>\n",
       "      <td>15.617341</td>\n",
       "      <td>179.03</td>\n",
       "    </tr>\n",
       "    <tr>\n",
       "      <th>2012-01-04</th>\n",
       "      <td>53.132802</td>\n",
       "      <td>156.935540</td>\n",
       "      <td>15.919125</td>\n",
       "      <td>177.51</td>\n",
       "    </tr>\n",
       "    <tr>\n",
       "      <th>2012-01-05</th>\n",
       "      <td>53.722681</td>\n",
       "      <td>156.191208</td>\n",
       "      <td>15.860445</td>\n",
       "      <td>177.61</td>\n",
       "    </tr>\n",
       "    <tr>\n",
       "      <th>2012-01-06</th>\n",
       "      <td>54.284287</td>\n",
       "      <td>154.398046</td>\n",
       "      <td>15.801764</td>\n",
       "      <td>182.61</td>\n",
       "    </tr>\n",
       "    <tr>\n",
       "      <th>2012-01-09</th>\n",
       "      <td>54.198183</td>\n",
       "      <td>153.594506</td>\n",
       "      <td>15.902359</td>\n",
       "      <td>178.56</td>\n",
       "    </tr>\n",
       "  </tbody>\n",
       "</table>\n",
       "</div>"
      ],
      "text/plain": [
       "                Apple         IBM      Cisco  Amazon\n",
       "Date                                                \n",
       "2012-01-03  52.848787  157.578371  15.617341  179.03\n",
       "2012-01-04  53.132802  156.935540  15.919125  177.51\n",
       "2012-01-05  53.722681  156.191208  15.860445  177.61\n",
       "2012-01-06  54.284287  154.398046  15.801764  182.61\n",
       "2012-01-09  54.198183  153.594506  15.902359  178.56"
      ]
     },
     "execution_count": 11,
     "metadata": {},
     "output_type": "execute_result"
    }
   ],
   "source": [
    "stocks.head()"
   ]
  },
  {
   "cell_type": "code",
   "execution_count": 12,
   "id": "11e8124b",
   "metadata": {},
   "outputs": [
    {
     "data": {
      "text/html": [
       "<div>\n",
       "<style scoped>\n",
       "    .dataframe tbody tr th:only-of-type {\n",
       "        vertical-align: middle;\n",
       "    }\n",
       "\n",
       "    .dataframe tbody tr th {\n",
       "        vertical-align: top;\n",
       "    }\n",
       "\n",
       "    .dataframe thead th {\n",
       "        text-align: right;\n",
       "    }\n",
       "</style>\n",
       "<table border=\"1\" class=\"dataframe\">\n",
       "  <thead>\n",
       "    <tr style=\"text-align: right;\">\n",
       "      <th></th>\n",
       "      <th>Apple</th>\n",
       "      <th>IBM</th>\n",
       "      <th>Cisco</th>\n",
       "      <th>Amazon</th>\n",
       "    </tr>\n",
       "    <tr>\n",
       "      <th>Date</th>\n",
       "      <th></th>\n",
       "      <th></th>\n",
       "      <th></th>\n",
       "      <th></th>\n",
       "    </tr>\n",
       "  </thead>\n",
       "  <tbody>\n",
       "    <tr>\n",
       "      <th>2012-01-03</th>\n",
       "      <td>NaN</td>\n",
       "      <td>NaN</td>\n",
       "      <td>NaN</td>\n",
       "      <td>NaN</td>\n",
       "    </tr>\n",
       "    <tr>\n",
       "      <th>2012-01-04</th>\n",
       "      <td>0.284016</td>\n",
       "      <td>-0.642832</td>\n",
       "      <td>0.301784</td>\n",
       "      <td>-1.52</td>\n",
       "    </tr>\n",
       "    <tr>\n",
       "      <th>2012-01-05</th>\n",
       "      <td>0.589879</td>\n",
       "      <td>-0.744332</td>\n",
       "      <td>-0.058680</td>\n",
       "      <td>0.10</td>\n",
       "    </tr>\n",
       "    <tr>\n",
       "      <th>2012-01-06</th>\n",
       "      <td>0.561606</td>\n",
       "      <td>-1.793162</td>\n",
       "      <td>-0.058680</td>\n",
       "      <td>5.00</td>\n",
       "    </tr>\n",
       "    <tr>\n",
       "      <th>2012-01-09</th>\n",
       "      <td>-0.086104</td>\n",
       "      <td>-0.803540</td>\n",
       "      <td>0.100595</td>\n",
       "      <td>-4.05</td>\n",
       "    </tr>\n",
       "    <tr>\n",
       "      <th>...</th>\n",
       "      <td>...</td>\n",
       "      <td>...</td>\n",
       "      <td>...</td>\n",
       "      <td>...</td>\n",
       "    </tr>\n",
       "    <tr>\n",
       "      <th>2016-12-23</th>\n",
       "      <td>0.227159</td>\n",
       "      <td>-0.336916</td>\n",
       "      <td>0.067582</td>\n",
       "      <td>-5.75</td>\n",
       "    </tr>\n",
       "    <tr>\n",
       "      <th>2016-12-27</th>\n",
       "      <td>0.730860</td>\n",
       "      <td>0.413925</td>\n",
       "      <td>0.144818</td>\n",
       "      <td>10.81</td>\n",
       "    </tr>\n",
       "    <tr>\n",
       "      <th>2016-12-28</th>\n",
       "      <td>-0.493824</td>\n",
       "      <td>-0.914486</td>\n",
       "      <td>-0.251018</td>\n",
       "      <td>0.73</td>\n",
       "    </tr>\n",
       "    <tr>\n",
       "      <th>2016-12-29</th>\n",
       "      <td>-0.029629</td>\n",
       "      <td>0.394673</td>\n",
       "      <td>0.038618</td>\n",
       "      <td>-6.98</td>\n",
       "    </tr>\n",
       "    <tr>\n",
       "      <th>2016-12-30</th>\n",
       "      <td>-0.898760</td>\n",
       "      <td>-0.587196</td>\n",
       "      <td>-0.231709</td>\n",
       "      <td>-15.28</td>\n",
       "    </tr>\n",
       "  </tbody>\n",
       "</table>\n",
       "<p>1258 rows × 4 columns</p>\n",
       "</div>"
      ],
      "text/plain": [
       "               Apple       IBM     Cisco  Amazon\n",
       "Date                                            \n",
       "2012-01-03       NaN       NaN       NaN     NaN\n",
       "2012-01-04  0.284016 -0.642832  0.301784   -1.52\n",
       "2012-01-05  0.589879 -0.744332 -0.058680    0.10\n",
       "2012-01-06  0.561606 -1.793162 -0.058680    5.00\n",
       "2012-01-09 -0.086104 -0.803540  0.100595   -4.05\n",
       "...              ...       ...       ...     ...\n",
       "2016-12-23  0.227159 -0.336916  0.067582   -5.75\n",
       "2016-12-27  0.730860  0.413925  0.144818   10.81\n",
       "2016-12-28 -0.493824 -0.914486 -0.251018    0.73\n",
       "2016-12-29 -0.029629  0.394673  0.038618   -6.98\n",
       "2016-12-30 -0.898760 -0.587196 -0.231709  -15.28\n",
       "\n",
       "[1258 rows x 4 columns]"
      ]
     },
     "execution_count": 12,
     "metadata": {},
     "output_type": "execute_result"
    }
   ],
   "source": [
    "stocks.diff()"
   ]
  },
  {
   "cell_type": "code",
   "execution_count": 13,
   "id": "ce253d9e",
   "metadata": {},
   "outputs": [
    {
     "data": {
      "text/html": [
       "<div>\n",
       "<style scoped>\n",
       "    .dataframe tbody tr th:only-of-type {\n",
       "        vertical-align: middle;\n",
       "    }\n",
       "\n",
       "    .dataframe tbody tr th {\n",
       "        vertical-align: top;\n",
       "    }\n",
       "\n",
       "    .dataframe thead th {\n",
       "        text-align: right;\n",
       "    }\n",
       "</style>\n",
       "<table border=\"1\" class=\"dataframe\">\n",
       "  <thead>\n",
       "    <tr style=\"text-align: right;\">\n",
       "      <th></th>\n",
       "      <th>Apple</th>\n",
       "      <th>IBM</th>\n",
       "      <th>Cisco</th>\n",
       "      <th>Amazon</th>\n",
       "    </tr>\n",
       "    <tr>\n",
       "      <th>Date</th>\n",
       "      <th></th>\n",
       "      <th></th>\n",
       "      <th></th>\n",
       "      <th></th>\n",
       "    </tr>\n",
       "  </thead>\n",
       "  <tbody>\n",
       "    <tr>\n",
       "      <th>2012-01-03</th>\n",
       "      <td>NaN</td>\n",
       "      <td>NaN</td>\n",
       "      <td>NaN</td>\n",
       "      <td>NaN</td>\n",
       "    </tr>\n",
       "    <tr>\n",
       "      <th>2012-01-04</th>\n",
       "      <td>0.005374</td>\n",
       "      <td>-0.004079</td>\n",
       "      <td>0.019324</td>\n",
       "      <td>-0.008490</td>\n",
       "    </tr>\n",
       "    <tr>\n",
       "      <th>2012-01-05</th>\n",
       "      <td>0.011102</td>\n",
       "      <td>-0.004743</td>\n",
       "      <td>-0.003686</td>\n",
       "      <td>0.000563</td>\n",
       "    </tr>\n",
       "    <tr>\n",
       "      <th>2012-01-06</th>\n",
       "      <td>0.010454</td>\n",
       "      <td>-0.011481</td>\n",
       "      <td>-0.003700</td>\n",
       "      <td>0.028152</td>\n",
       "    </tr>\n",
       "    <tr>\n",
       "      <th>2012-01-09</th>\n",
       "      <td>-0.001586</td>\n",
       "      <td>-0.005204</td>\n",
       "      <td>0.006366</td>\n",
       "      <td>-0.022178</td>\n",
       "    </tr>\n",
       "    <tr>\n",
       "      <th>...</th>\n",
       "      <td>...</td>\n",
       "      <td>...</td>\n",
       "      <td>...</td>\n",
       "      <td>...</td>\n",
       "    </tr>\n",
       "    <tr>\n",
       "      <th>2016-12-23</th>\n",
       "      <td>0.001978</td>\n",
       "      <td>-0.002095</td>\n",
       "      <td>0.002298</td>\n",
       "      <td>-0.007503</td>\n",
       "    </tr>\n",
       "    <tr>\n",
       "      <th>2016-12-27</th>\n",
       "      <td>0.006351</td>\n",
       "      <td>0.002579</td>\n",
       "      <td>0.004913</td>\n",
       "      <td>0.014213</td>\n",
       "    </tr>\n",
       "    <tr>\n",
       "      <th>2016-12-28</th>\n",
       "      <td>-0.004264</td>\n",
       "      <td>-0.005684</td>\n",
       "      <td>-0.008475</td>\n",
       "      <td>0.000946</td>\n",
       "    </tr>\n",
       "    <tr>\n",
       "      <th>2016-12-29</th>\n",
       "      <td>-0.000257</td>\n",
       "      <td>0.002467</td>\n",
       "      <td>0.001315</td>\n",
       "      <td>-0.009040</td>\n",
       "    </tr>\n",
       "    <tr>\n",
       "      <th>2016-12-30</th>\n",
       "      <td>-0.007796</td>\n",
       "      <td>-0.003661</td>\n",
       "      <td>-0.007879</td>\n",
       "      <td>-0.019970</td>\n",
       "    </tr>\n",
       "  </tbody>\n",
       "</table>\n",
       "<p>1258 rows × 4 columns</p>\n",
       "</div>"
      ],
      "text/plain": [
       "               Apple       IBM     Cisco    Amazon\n",
       "Date                                              \n",
       "2012-01-03       NaN       NaN       NaN       NaN\n",
       "2012-01-04  0.005374 -0.004079  0.019324 -0.008490\n",
       "2012-01-05  0.011102 -0.004743 -0.003686  0.000563\n",
       "2012-01-06  0.010454 -0.011481 -0.003700  0.028152\n",
       "2012-01-09 -0.001586 -0.005204  0.006366 -0.022178\n",
       "...              ...       ...       ...       ...\n",
       "2016-12-23  0.001978 -0.002095  0.002298 -0.007503\n",
       "2016-12-27  0.006351  0.002579  0.004913  0.014213\n",
       "2016-12-28 -0.004264 -0.005684 -0.008475  0.000946\n",
       "2016-12-29 -0.000257  0.002467  0.001315 -0.009040\n",
       "2016-12-30 -0.007796 -0.003661 -0.007879 -0.019970\n",
       "\n",
       "[1258 rows x 4 columns]"
      ]
     },
     "execution_count": 13,
     "metadata": {},
     "output_type": "execute_result"
    }
   ],
   "source": [
    "stocks.pct_change(1)"
   ]
  },
  {
   "cell_type": "code",
   "execution_count": 18,
   "id": "0f4de30d",
   "metadata": {},
   "outputs": [
    {
     "data": {
      "text/html": [
       "<div>\n",
       "<style scoped>\n",
       "    .dataframe tbody tr th:only-of-type {\n",
       "        vertical-align: middle;\n",
       "    }\n",
       "\n",
       "    .dataframe tbody tr th {\n",
       "        vertical-align: top;\n",
       "    }\n",
       "\n",
       "    .dataframe thead th {\n",
       "        text-align: right;\n",
       "    }\n",
       "</style>\n",
       "<table border=\"1\" class=\"dataframe\">\n",
       "  <thead>\n",
       "    <tr style=\"text-align: right;\">\n",
       "      <th></th>\n",
       "      <th>Apple</th>\n",
       "      <th>IBM</th>\n",
       "      <th>Cisco</th>\n",
       "      <th>Amazon</th>\n",
       "    </tr>\n",
       "    <tr>\n",
       "      <th>Date</th>\n",
       "      <th></th>\n",
       "      <th></th>\n",
       "      <th></th>\n",
       "      <th></th>\n",
       "    </tr>\n",
       "  </thead>\n",
       "  <tbody>\n",
       "    <tr>\n",
       "      <th>2012-01-03</th>\n",
       "      <td>NaN</td>\n",
       "      <td>NaN</td>\n",
       "      <td>NaN</td>\n",
       "      <td>NaN</td>\n",
       "    </tr>\n",
       "    <tr>\n",
       "      <th>2012-01-04</th>\n",
       "      <td>0.005374</td>\n",
       "      <td>-0.004079</td>\n",
       "      <td>0.019324</td>\n",
       "      <td>-0.008490</td>\n",
       "    </tr>\n",
       "    <tr>\n",
       "      <th>2012-01-05</th>\n",
       "      <td>0.011102</td>\n",
       "      <td>-0.004743</td>\n",
       "      <td>-0.003686</td>\n",
       "      <td>0.000563</td>\n",
       "    </tr>\n",
       "    <tr>\n",
       "      <th>2012-01-06</th>\n",
       "      <td>0.010454</td>\n",
       "      <td>-0.011481</td>\n",
       "      <td>-0.003700</td>\n",
       "      <td>0.028152</td>\n",
       "    </tr>\n",
       "    <tr>\n",
       "      <th>2012-01-09</th>\n",
       "      <td>-0.001586</td>\n",
       "      <td>-0.005204</td>\n",
       "      <td>0.006366</td>\n",
       "      <td>-0.022178</td>\n",
       "    </tr>\n",
       "    <tr>\n",
       "      <th>...</th>\n",
       "      <td>...</td>\n",
       "      <td>...</td>\n",
       "      <td>...</td>\n",
       "      <td>...</td>\n",
       "    </tr>\n",
       "    <tr>\n",
       "      <th>2016-12-23</th>\n",
       "      <td>0.001978</td>\n",
       "      <td>-0.002095</td>\n",
       "      <td>0.002298</td>\n",
       "      <td>-0.007503</td>\n",
       "    </tr>\n",
       "    <tr>\n",
       "      <th>2016-12-27</th>\n",
       "      <td>0.006351</td>\n",
       "      <td>0.002579</td>\n",
       "      <td>0.004913</td>\n",
       "      <td>0.014213</td>\n",
       "    </tr>\n",
       "    <tr>\n",
       "      <th>2016-12-28</th>\n",
       "      <td>-0.004264</td>\n",
       "      <td>-0.005684</td>\n",
       "      <td>-0.008475</td>\n",
       "      <td>0.000946</td>\n",
       "    </tr>\n",
       "    <tr>\n",
       "      <th>2016-12-29</th>\n",
       "      <td>-0.000257</td>\n",
       "      <td>0.002467</td>\n",
       "      <td>0.001315</td>\n",
       "      <td>-0.009040</td>\n",
       "    </tr>\n",
       "    <tr>\n",
       "      <th>2016-12-30</th>\n",
       "      <td>-0.007796</td>\n",
       "      <td>-0.003661</td>\n",
       "      <td>-0.007879</td>\n",
       "      <td>-0.019970</td>\n",
       "    </tr>\n",
       "  </tbody>\n",
       "</table>\n",
       "<p>1258 rows × 4 columns</p>\n",
       "</div>"
      ],
      "text/plain": [
       "               Apple       IBM     Cisco    Amazon\n",
       "Date                                              \n",
       "2012-01-03       NaN       NaN       NaN       NaN\n",
       "2012-01-04  0.005374 -0.004079  0.019324 -0.008490\n",
       "2012-01-05  0.011102 -0.004743 -0.003686  0.000563\n",
       "2012-01-06  0.010454 -0.011481 -0.003700  0.028152\n",
       "2012-01-09 -0.001586 -0.005204  0.006366 -0.022178\n",
       "...              ...       ...       ...       ...\n",
       "2016-12-23  0.001978 -0.002095  0.002298 -0.007503\n",
       "2016-12-27  0.006351  0.002579  0.004913  0.014213\n",
       "2016-12-28 -0.004264 -0.005684 -0.008475  0.000946\n",
       "2016-12-29 -0.000257  0.002467  0.001315 -0.009040\n",
       "2016-12-30 -0.007796 -0.003661 -0.007879 -0.019970\n",
       "\n",
       "[1258 rows x 4 columns]"
      ]
     },
     "execution_count": 18,
     "metadata": {},
     "output_type": "execute_result"
    }
   ],
   "source": [
    "(np.divide(stocks-stocks.shift(1), stocks.shift(1)))"
   ]
  },
  {
   "cell_type": "code",
   "execution_count": 21,
   "id": "51d3d8eb",
   "metadata": {},
   "outputs": [
    {
     "data": {
      "application/javascript": [
       "\n",
       "        if (window._pyforest_update_imports_cell) { window._pyforest_update_imports_cell('import matplotlib.pyplot as plt'); }\n",
       "    "
      ],
      "text/plain": [
       "<IPython.core.display.Javascript object>"
      ]
     },
     "metadata": {},
     "output_type": "display_data"
    },
    {
     "data": {
      "text/plain": [
       "(array([[  1.,   0.,   0.,   1.,   6.,   7.,  45., 159., 515., 377., 109.,\n",
       "          24.,   8.,   3.,   1.,   1.,   0.,   0.,   0.,   0.],\n",
       "        [  0.,   0.,   1.,   1.,   5.,   3.,  12., 130., 621., 410.,  65.,\n",
       "           8.,   1.,   0.,   0.,   0.,   0.,   0.,   0.,   0.],\n",
       "        [  1.,   1.,   0.,   1.,   2.,   5.,  20., 145., 584., 396.,  84.,\n",
       "          12.,   1.,   1.,   0.,   3.,   0.,   1.,   0.,   0.],\n",
       "        [  1.,   2.,   1.,   3.,   5.,   5.,  46., 177., 469., 349., 154.,\n",
       "          27.,   7.,   2.,   2.,   4.,   0.,   0.,   2.,   1.]]),\n",
       " array([-0.12354938, -0.10949906, -0.09544874, -0.08139842, -0.0673481 ,\n",
       "        -0.05329778, -0.03924746, -0.02519714, -0.01114682,  0.0029035 ,\n",
       "         0.01695382,  0.03100414,  0.04505446,  0.05910477,  0.07315509,\n",
       "         0.08720541,  0.10125573,  0.11530605,  0.12935637,  0.14340669,\n",
       "         0.15745701]),\n",
       " <a list of 4 BarContainer objects>)"
      ]
     },
     "execution_count": 21,
     "metadata": {},
     "output_type": "execute_result"
    },
    {
     "data": {
      "image/png": "[encoded data removed]",
      "text/plain": [
       "<Figure size 432x288 with 1 Axes>"
      ]
     },
     "metadata": {
      "needs_background": "light"
     },
     "output_type": "display_data"
    }
   ],
   "source": [
    "plt.hist((np.divide(stocks-stocks.shift(1), stocks.shift(1))), bins= 20)"
   ]
  },
  {
   "cell_type": "code",
   "execution_count": 22,
   "id": "0a1df9cf",
   "metadata": {},
   "outputs": [
    {
     "data": {
      "text/plain": [
       "array([[<AxesSubplot:title={'center':'Apple'}>,\n",
       "        <AxesSubplot:title={'center':'IBM'}>],\n",
       "       [<AxesSubplot:title={'center':'Cisco'}>,\n",
       "        <AxesSubplot:title={'center':'Amazon'}>]], dtype=object)"
      ]
     },
     "execution_count": 22,
     "metadata": {},
     "output_type": "execute_result"
    },
    {
     "data": {
      "image/png": "[encoded data removed]",
      "text/plain": [
       "<Figure size 432x288 with 4 Axes>"
      ]
     },
     "metadata": {
      "needs_background": "light"
     },
     "output_type": "display_data"
    }
   ],
   "source": [
    "(np.divide(stocks-stocks.shift(1), stocks.shift(1))).hist(bins = 10)"
   ]
  },
  {
   "cell_type": "code",
   "execution_count": 23,
   "id": "203a2bb4",
   "metadata": {},
   "outputs": [
    {
     "data": {
      "text/html": [
       "<div>\n",
       "<style scoped>\n",
       "    .dataframe tbody tr th:only-of-type {\n",
       "        vertical-align: middle;\n",
       "    }\n",
       "\n",
       "    .dataframe tbody tr th {\n",
       "        vertical-align: top;\n",
       "    }\n",
       "\n",
       "    .dataframe thead th {\n",
       "        text-align: right;\n",
       "    }\n",
       "</style>\n",
       "<table border=\"1\" class=\"dataframe\">\n",
       "  <thead>\n",
       "    <tr style=\"text-align: right;\">\n",
       "      <th></th>\n",
       "      <th>Apple</th>\n",
       "      <th>IBM</th>\n",
       "      <th>Cisco</th>\n",
       "      <th>Amazon</th>\n",
       "    </tr>\n",
       "  </thead>\n",
       "  <tbody>\n",
       "    <tr>\n",
       "      <th>Apple</th>\n",
       "      <td>1.000000</td>\n",
       "      <td>0.297498</td>\n",
       "      <td>0.301990</td>\n",
       "      <td>0.235487</td>\n",
       "    </tr>\n",
       "    <tr>\n",
       "      <th>IBM</th>\n",
       "      <td>0.297498</td>\n",
       "      <td>1.000000</td>\n",
       "      <td>0.424672</td>\n",
       "      <td>0.258492</td>\n",
       "    </tr>\n",
       "    <tr>\n",
       "      <th>Cisco</th>\n",
       "      <td>0.301990</td>\n",
       "      <td>0.424672</td>\n",
       "      <td>1.000000</td>\n",
       "      <td>0.284470</td>\n",
       "    </tr>\n",
       "    <tr>\n",
       "      <th>Amazon</th>\n",
       "      <td>0.235487</td>\n",
       "      <td>0.258492</td>\n",
       "      <td>0.284470</td>\n",
       "      <td>1.000000</td>\n",
       "    </tr>\n",
       "  </tbody>\n",
       "</table>\n",
       "</div>"
      ],
      "text/plain": [
       "           Apple       IBM     Cisco    Amazon\n",
       "Apple   1.000000  0.297498  0.301990  0.235487\n",
       "IBM     0.297498  1.000000  0.424672  0.258492\n",
       "Cisco   0.301990  0.424672  1.000000  0.284470\n",
       "Amazon  0.235487  0.258492  0.284470  1.000000"
      ]
     },
     "execution_count": 23,
     "metadata": {},
     "output_type": "execute_result"
    }
   ],
   "source": [
    "(np.divide(stocks-stocks.shift(1), stocks.shift(1))).corr()"
   ]
  },
  {
   "cell_type": "code",
   "execution_count": 27,
   "id": "d4f68012",
   "metadata": {},
   "outputs": [
    {
     "data": {
      "application/javascript": [
       "\n",
       "        if (window._pyforest_update_imports_cell) { window._pyforest_update_imports_cell('import matplotlib.pyplot as plt\\nimport seaborn as sns'); }\n",
       "    "
      ],
      "text/plain": [
       "<IPython.core.display.Javascript object>"
      ]
     },
     "metadata": {},
     "output_type": "display_data"
    },
    {
     "data": {
      "text/plain": [
       "<AxesSubplot:>"
      ]
     },
     "execution_count": 27,
     "metadata": {},
     "output_type": "execute_result"
    },
    {
     "data": {
      "image/png": "[encoded data removed]",
      "text/plain": [
       "<Figure size 432x288 with 2 Axes>"
      ]
     },
     "metadata": {
      "needs_background": "light"
     },
     "output_type": "display_data"
    }
   ],
   "source": [
    "sns.heatmap((np.divide(stocks-stocks.shift(1), stocks.shift(1)).corr()), cmap = 'viridis')"
   ]
  },
  {
   "cell_type": "code",
   "execution_count": 28,
   "id": "b6e32330",
   "metadata": {},
   "outputs": [
    {
     "data": {
      "text/html": [
       "<div>\n",
       "<style scoped>\n",
       "    .dataframe tbody tr th:only-of-type {\n",
       "        vertical-align: middle;\n",
       "    }\n",
       "\n",
       "    .dataframe tbody tr th {\n",
       "        vertical-align: top;\n",
       "    }\n",
       "\n",
       "    .dataframe thead th {\n",
       "        text-align: right;\n",
       "    }\n",
       "</style>\n",
       "<table border=\"1\" class=\"dataframe\">\n",
       "  <thead>\n",
       "    <tr style=\"text-align: right;\">\n",
       "      <th></th>\n",
       "      <th>Apple</th>\n",
       "      <th>IBM</th>\n",
       "      <th>Cisco</th>\n",
       "      <th>Amazon</th>\n",
       "    </tr>\n",
       "  </thead>\n",
       "  <tbody>\n",
       "    <tr>\n",
       "      <th>Apple</th>\n",
       "      <td>0.000270</td>\n",
       "      <td>0.000057</td>\n",
       "      <td>0.000071</td>\n",
       "      <td>0.000075</td>\n",
       "    </tr>\n",
       "    <tr>\n",
       "      <th>IBM</th>\n",
       "      <td>0.000057</td>\n",
       "      <td>0.000138</td>\n",
       "      <td>0.000071</td>\n",
       "      <td>0.000059</td>\n",
       "    </tr>\n",
       "    <tr>\n",
       "      <th>Cisco</th>\n",
       "      <td>0.000071</td>\n",
       "      <td>0.000071</td>\n",
       "      <td>0.000205</td>\n",
       "      <td>0.000079</td>\n",
       "    </tr>\n",
       "    <tr>\n",
       "      <th>Amazon</th>\n",
       "      <td>0.000075</td>\n",
       "      <td>0.000059</td>\n",
       "      <td>0.000079</td>\n",
       "      <td>0.000380</td>\n",
       "    </tr>\n",
       "  </tbody>\n",
       "</table>\n",
       "</div>"
      ],
      "text/plain": [
       "           Apple       IBM     Cisco    Amazon\n",
       "Apple   0.000270  0.000057  0.000071  0.000075\n",
       "IBM     0.000057  0.000138  0.000071  0.000059\n",
       "Cisco   0.000071  0.000071  0.000205  0.000079\n",
       "Amazon  0.000075  0.000059  0.000079  0.000380"
      ]
     },
     "execution_count": 28,
     "metadata": {},
     "output_type": "execute_result"
    }
   ],
   "source": [
    "(np.divide(stocks-stocks.shift(1), stocks.shift(1))).cov()"
   ]
  },
  {
   "cell_type": "code",
   "execution_count": 29,
   "id": "d9944e97",
   "metadata": {},
   "outputs": [
    {
     "data": {
      "text/plain": [
       "Apple     0.000270\n",
       "IBM       0.000138\n",
       "Cisco     0.000205\n",
       "Amazon    0.000380\n",
       "dtype: float64"
      ]
     },
     "execution_count": 29,
     "metadata": {},
     "output_type": "execute_result"
    }
   ],
   "source": [
    "(np.divide(stocks-stocks.shift(1), stocks.shift(1))).var()"
   ]
  },
  {
   "cell_type": "code",
   "execution_count": 39,
   "id": "61f0c6f9",
   "metadata": {},
   "outputs": [],
   "source": [
    "weights = np.random.random(4)"
   ]
  },
  {
   "cell_type": "code",
   "execution_count": 40,
   "id": "7781eb2a",
   "metadata": {},
   "outputs": [],
   "source": [
    "norm_wts = weights/weights.sum()"
   ]
  },
  {
   "cell_type": "code",
   "execution_count": 42,
   "id": "406eee05",
   "metadata": {},
   "outputs": [
    {
     "data": {
      "text/plain": [
       "array([0.12686217, 0.30245633, 0.52661101, 0.04407049])"
      ]
     },
     "execution_count": 42,
     "metadata": {},
     "output_type": "execute_result"
    }
   ],
   "source": [
    "norm_wts"
   ]
  },
  {
   "cell_type": "code",
   "execution_count": 60,
   "id": "a3e6e7df",
   "metadata": {},
   "outputs": [],
   "source": [
    "expected_return_val = np.sum(1000000*((np.divide(stocks-stocks.shift(1), stocks.shift(1))).mean()*norm_wts))"
   ]
  },
  {
   "cell_type": "code",
   "execution_count": 61,
   "id": "3ef01fef",
   "metadata": {},
   "outputs": [],
   "source": [
    "exp_ret = np.sum(((np.divide(stocks-stocks.shift(1), stocks.shift(1))).mean()*norm_wts)) "
   ]
  },
  {
   "cell_type": "code",
   "execution_count": 62,
   "id": "10b4201f",
   "metadata": {},
   "outputs": [
    {
     "data": {
      "text/plain": [
       "0.0004936080943433022"
      ]
     },
     "execution_count": 62,
     "metadata": {},
     "output_type": "execute_result"
    }
   ],
   "source": [
    "exp_ret"
   ]
  },
  {
   "cell_type": "code",
   "execution_count": 68,
   "id": "e48dab40",
   "metadata": {},
   "outputs": [],
   "source": [
    "exp_vol = np.sum(norm_wts*(np.divide(stocks-stocks.shift(1), stocks.shift(1))).std())"
   ]
  },
  {
   "cell_type": "code",
   "execution_count": 69,
   "id": "f91719d5",
   "metadata": {},
   "outputs": [],
   "source": [
    "sharpe_ratio =  exp_ret/exp_vol"
   ]
  },
  {
   "cell_type": "code",
   "execution_count": 70,
   "id": "ca5a3484",
   "metadata": {},
   "outputs": [],
   "source": [
    "annual_sharpe = sharpe_ratio*252**0.5"
   ]
  },
  {
   "cell_type": "code",
   "execution_count": 71,
   "id": "abc66891",
   "metadata": {},
   "outputs": [
    {
     "data": {
      "text/plain": [
       "0.5584750501828339"
      ]
     },
     "execution_count": 71,
     "metadata": {},
     "output_type": "execute_result"
    }
   ],
   "source": [
    "annual_sharpe\n"
   ]
  },
  {
   "cell_type": "markdown",
   "id": "d1d1c8b5",
   "metadata": {},
   "source": [
    "## Monte Carlo Simulation for Sharpe Ratio"
   ]
  },
  {
   "cell_type": "code",
   "execution_count": 81,
   "id": "f5f0634c",
   "metadata": {},
   "outputs": [],
   "source": [
    "sharpe = [None]*5000\n",
    "wts = [None]*5000\n",
    "for i in range(5000):\n",
    "    weights = np.random.random(4)\n",
    "    norm_wts = weights/weights.sum()\n",
    "    exp_ret = np.sum(((np.divide(stocks-stocks.shift(1), stocks.shift(1))).mean()*norm_wts)) \n",
    "    exp_vol = np.sum(norm_wts*(np.divide(stocks-stocks.shift(1), stocks.shift(1))).std())\n",
    "    sharpe_ratio =  exp_ret/exp_vol\n",
    "    annual_sharpe = sharpe_ratio*252**0.5\n",
    "    sharpe[i] = annual_sharpe\n",
    "    wts[i] = norm_wts"
   ]
  },
  {
   "cell_type": "code",
   "execution_count": 82,
   "id": "2e414dae",
   "metadata": {},
   "outputs": [
    {
     "data": {
      "text/plain": [
       "0.7016324875345121"
      ]
     },
     "execution_count": 82,
     "metadata": {},
     "output_type": "execute_result"
    }
   ],
   "source": [
    "np.mean(sharpe)"
   ]
  },
  {
   "cell_type": "code",
   "execution_count": 83,
   "id": "85acc851",
   "metadata": {},
   "outputs": [
    {
     "data": {
      "text/plain": [
       "1.0386000495613241"
      ]
     },
     "execution_count": 83,
     "metadata": {},
     "output_type": "execute_result"
    }
   ],
   "source": [
    "max(sharpe)"
   ]
  },
  {
   "cell_type": "code",
   "execution_count": 84,
   "id": "fcb6ff16",
   "metadata": {},
   "outputs": [
    {
     "data": {
      "text/plain": [
       "0.2376458608517879"
      ]
     },
     "execution_count": 84,
     "metadata": {},
     "output_type": "execute_result"
    }
   ],
   "source": [
    "min(sharpe)"
   ]
  },
  {
   "cell_type": "code",
   "execution_count": 88,
   "id": "b188d160",
   "metadata": {},
   "outputs": [
    {
     "data": {
      "text/plain": [
       "2970"
      ]
     },
     "execution_count": 88,
     "metadata": {},
     "output_type": "execute_result"
    }
   ],
   "source": [
    "np.argmax(sharpe)"
   ]
  },
  {
   "cell_type": "code",
   "execution_count": 89,
   "id": "74fc86ed",
   "metadata": {},
   "outputs": [
    {
     "data": {
      "text/plain": [
       "array([0.05590345, 0.01944466, 0.0438691 , 0.88078278])"
      ]
     },
     "execution_count": 89,
     "metadata": {},
     "output_type": "execute_result"
    }
   ],
   "source": [
    "wts[np.argmax(sharpe)]"
   ]
  },
  {
   "cell_type": "code",
   "execution_count": 90,
   "id": "30ac3072",
   "metadata": {},
   "outputs": [
    {
     "data": {
      "text/plain": [
       "Index(['Apple', 'IBM', 'Cisco', 'Amazon'], dtype='object')"
      ]
     },
     "execution_count": 90,
     "metadata": {},
     "output_type": "execute_result"
    }
   ],
   "source": [
    "stocks.columns"
   ]
  },
  {
   "cell_type": "code",
   "execution_count": 91,
   "id": "09608e49",
   "metadata": {},
   "outputs": [
    {
     "data": {
      "text/plain": [
       "<AxesSubplot:xlabel='Date'>"
      ]
     },
     "execution_count": 91,
     "metadata": {},
     "output_type": "execute_result"
    },
    {
     "data": {
      "image/png": "[encoded data removed]",
      "text/plain": [
       "<Figure size 432x288 with 1 Axes>"
      ]
     },
     "metadata": {
      "needs_background": "light"
     },
     "output_type": "display_data"
    }
   ],
   "source": [
    "stocks.plot()"
   ]
  },
  {
   "cell_type": "code",
   "execution_count": null,
   "id": "e13b7436",
   "metadata": {},
   "outputs": [],
   "source": []
  }
 ],
 "metadata": {
  "kernelspec": {
   "display_name": "Python 3",
   "language": "python",
   "name": "python3"
  },
  "language_info": {
   "codemirror_mode": {
    "name": "ipython",
    "version": 3
   },
   "file_extension": ".py",
   "mimetype": "text/x-python",
   "name": "python",
   "nbconvert_exporter": "python",
   "pygments_lexer": "ipython3",
   "version": "3.8.5"
  }
 },
 "nbformat": 4,
 "nbformat_minor": 5
}
